{
 "cells": [
  {
   "cell_type": "code",
   "execution_count": null,
   "id": "bc2c3fcc-5ae2-4a23-a104-9606fb86214e",
   "metadata": {
    "tags": []
   },
   "outputs": [],
   "source": [
    "# Autoreload modules\n",
    "%load_ext autoreload\n",
    "%autoreload 2\n",
    "    \n",
    "# Accessing moduels\n",
    "import sys,os\n",
    "sys.path.append(os.path.realpath('../Modules'))\n",
    "\n",
    "from dataloader.dataset import ADNI3Channels\n",
    "from dataloader.dataloader import ADNILoader\n",
    "from dataloader.transforms import Transforms\n",
    "\n",
    "from model.model import ViT\n",
    "from model.train import Trainer\n",
    "\n",
    "from matplotlib import pyplot as plt\n",
    "from utils.image import save_fig"
   ]
  },
  {
   "cell_type": "code",
   "execution_count": null,
   "id": "fde51da3-52fd-4e48-a361-2591941827f4",
   "metadata": {},
   "outputs": [],
   "source": [
    "import numpy as np\n",
    "\n",
    "import torch\n",
    "import torch.nn as nn\n",
    "import pandas as pd"
   ]
  },
  {
   "cell_type": "markdown",
   "id": "3b159d54-7226-401c-816f-f83ee5783bff",
   "metadata": {
    "tags": []
   },
   "source": [
    "# Dataset and Dataloader Setup"
   ]
  },
  {
   "cell_type": "code",
   "execution_count": null,
   "id": "4b9b2527-bf3f-4b5e-ac60-132b26c34f4c",
   "metadata": {},
   "outputs": [],
   "source": [
    "id2label = {0: \"CN\", 1: \"MCI\", 2: \"AD\"}\n",
    "label2id = {\"CN\": 0, \"MCI\": 1, \"AD\": 2}\n",
    "\n",
    "transforms = Transforms(image_size=(384, 384), p=0.5)\n",
    "\n",
    "train_ds = ADNI3Channels(\"../Data/Training/\", transforms=transforms.eval())\n",
    "valid_ds = ADNI3Channels(\"../Data/Validation/\", transforms=transforms.eval())\n",
    "test_ds = ADNI3Channels(\"../Data/Test/\", transforms=transforms.eval())"
   ]
  },
  {
   "cell_type": "code",
   "execution_count": null,
   "id": "3be4e16a-ec1c-4e73-ba2f-6cc086513e4f",
   "metadata": {
    "tags": []
   },
   "outputs": [],
   "source": [
    "image, label = train_ds[0]\n",
    "\n",
    "print(\"Image shape:\", image.shape)\n",
    "print(\"Label:\", id2label[label.item()], \"\\n\")\n",
    "\n",
    "print(\"Number of training samples:\", len(train_ds))\n",
    "print(\"Number of validation samples:\", len(valid_ds))\n",
    "print(\"Number of test samples:\", len(test_ds), \"\\n\")\n",
    "\n",
    "fig, axes = plt.subplots(ncols=3, figsize=(6, 2), dpi=300)\n",
    "for i in range(3):\n",
    "    axes[i].imshow(image[i, :, :])\n",
    "    axes[i].axis(\"off\");\n",
    "\n",
    "print(\"Min pixel value =\", image.min().item())\n",
    "print(\"Max pixel value =\", image.max().item())"
   ]
  },
  {
   "cell_type": "code",
   "execution_count": null,
   "id": "22f342a0-b447-4fb1-9f2d-f31478574b84",
   "metadata": {
    "tags": []
   },
   "outputs": [],
   "source": [
    "kwargs = {'train_ds': train_ds,\n",
    "           'valid_ds': valid_ds,\n",
    "           'test_ds': test_ds,\n",
    "         }\n",
    "\n",
    "train_dataloader = ADNILoader(**kwargs).train_dataloader()\n",
    "valid_dataloader= ADNILoader(**kwargs).validation_dataloader()\n",
    "test_dataloader = ADNILoader(**kwargs).test_dataloader()\n",
    "\n",
    "batch = next(iter(train_dataloader))\n",
    "print(batch[0].shape)\n",
    "print(batch[1].shape)"
   ]
  },
  {
   "cell_type": "markdown",
   "id": "cadf4e0f-eab1-46d9-969d-853d48157ba2",
   "metadata": {},
   "source": [
    "# Atlas"
   ]
  },
  {
   "cell_type": "code",
   "execution_count": null,
   "id": "4ba7cf20-23d0-44a5-8558-44b3c39f4b2e",
   "metadata": {
    "scrolled": true
   },
   "outputs": [],
   "source": [
    "from atlas.atlas import AAL3Channels\n",
    "\n",
    "atlas_data, atlas_labels = AAL3Channels(aal_dir='../Data/AAL/Resized_AAL.nii',\n",
    "                                                 labels_dir='../Data/AAL/ROI_MNI_V4.txt',\n",
    "                                                 rotate=True).get_data()\n",
    "\n",
    "print(atlas_data.shape, '\\n')\n",
    "print(len(atlas_labels), '\\n')\n",
    "\n",
    "print(atlas_data.min(), atlas_data.max())\n",
    "        \n",
    "fig, axes = plt.subplots(ncols=3, figsize=(6, 2), dpi=300)\n",
    "for i in range(3):\n",
    "    axes[i].imshow(atlas_data[i, :, :])\n",
    "    axes[i].axis(\"off\");"
   ]
  },
  {
   "cell_type": "markdown",
   "id": "8ed18ae1-e86b-4e18-a833-fd2abe0dfdcf",
   "metadata": {
    "tags": []
   },
   "source": [
    "# Loading Model"
   ]
  },
  {
   "cell_type": "code",
   "execution_count": null,
   "id": "c62966ac-4ced-4571-830e-121059d3370f",
   "metadata": {},
   "outputs": [],
   "source": [
    "model = ViT(\n",
    "    pretrained=True,\n",
    "    model_name=\"google/vit-base-patch32-384\",\n",
    "    device=\"cuda:0\"\n",
    ")\n",
    "\n",
    "model.load_best_state_file(\"acc\", \"../ViT/Best models/\", \"ViT_Pretrained\")\n",
    "\n",
    "kwargs = {\n",
    "    \"epochs\": 100,\n",
    "    \"model\":model,\n",
    "    \"train_dataloader\": train_dataloader,\n",
    "    \"valid_dataloader\": valid_dataloader,\n",
    "    \"test_dataloader\": test_dataloader,\n",
    "}\n",
    "\n",
    "trainer = Trainer(**kwargs)"
   ]
  },
  {
   "cell_type": "code",
   "execution_count": null,
   "id": "0d9ee1aa-0bd9-4b79-bf71-7badb7ce6710",
   "metadata": {},
   "outputs": [],
   "source": [
    "# trainer.test(trainer.train_dataloader)\n",
    "# trainer.test(trainer.valid_dataloader)\n",
    "trainer.test(trainer.test_dataloader)"
   ]
  },
  {
   "cell_type": "markdown",
   "id": "8b47479c-30a9-4313-8cf9-62d180d7d2b4",
   "metadata": {},
   "source": [
    "# Inference"
   ]
  },
  {
   "cell_type": "code",
   "execution_count": null,
   "id": "82db9bcd-8326-4b31-a9bf-5bf6184505b3",
   "metadata": {},
   "outputs": [],
   "source": [
    "# CN: 14\n",
    "# MCI: 58\n",
    "# AD: 36\n",
    "\n",
    "x, y = test_ds[36]\n",
    "\n",
    "pred, region = model.infer(x=x,\n",
    "                           atlas_data=atlas_data,\n",
    "                           atlas_labels=atlas_labels,\n",
    "                           show_overlaid_attention_map=True,\n",
    "                           show_patches=True,\n",
    "                           show_attention_map=True,\n",
    "                           show_input=True)\n",
    "\n",
    "print('Label:', id2label[y.item()])\n",
    "print('Prediction:', pred)\n",
    "print('Most Important Region:', region)"
   ]
  },
  {
   "cell_type": "markdown",
   "id": "c173651a-c69a-4734-a973-3340ca8022a3",
   "metadata": {},
   "source": [
    "# Showing the Most Important Region on Atlas"
   ]
  },
  {
   "cell_type": "code",
   "execution_count": null,
   "id": "6436d269-6447-4e34-a831-311a2e4cd9f2",
   "metadata": {},
   "outputs": [],
   "source": [
    "test = torch.where(atlas_data==atlas_labels[region], atlas_data*15, atlas_data)\n",
    "\n",
    "fig, axes = plt.subplots(ncols=3, figsize=(12, 2), dpi=300)\n",
    "\n",
    "axes[0].imshow(test[0, :, :])\n",
    "axes[0].axis('off')\n",
    "\n",
    "axes[1].imshow(test[1, :, :])\n",
    "axes[1].axis('off')\n",
    "\n",
    "axes[2].imshow(test[2, :, :])\n",
    "axes[2].axis('off');"
   ]
  },
  {
   "cell_type": "code",
   "execution_count": null,
   "id": "1e00b332-6ba0-4e5c-b90c-e2e08c5c76a8",
   "metadata": {},
   "outputs": [],
   "source": []
  }
 ],
 "metadata": {
  "kernelspec": {
   "display_name": "Python 3 (ipykernel)",
   "language": "python",
   "name": "python3"
  },
  "language_info": {
   "codemirror_mode": {
    "name": "ipython",
    "version": 3
   },
   "file_extension": ".py",
   "mimetype": "text/x-python",
   "name": "python",
   "nbconvert_exporter": "python",
   "pygments_lexer": "ipython3",
   "version": "3.12.8"
  }
 },
 "nbformat": 4,
 "nbformat_minor": 5
}
