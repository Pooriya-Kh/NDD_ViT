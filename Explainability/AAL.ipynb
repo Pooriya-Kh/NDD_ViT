{
 "cells": [
  {
   "cell_type": "code",
   "execution_count": null,
   "id": "5f29d04a-0897-4de3-a8b2-5bf761174304",
   "metadata": {},
   "outputs": [],
   "source": [
    "# Autoreload modules\n",
    "%load_ext autoreload\n",
    "%autoreload 2"
   ]
  },
  {
   "cell_type": "code",
   "execution_count": null,
   "id": "b46036f1-9410-4b77-bdd0-fa2c5e3513e6",
   "metadata": {},
   "outputs": [],
   "source": [
    "# To have access to moduels\n",
    "import sys,os\n",
    "sys.path.append(os.path.dirname(os.path.realpath('')) + '/Modules')\n",
    "\n",
    "import matplotlib.pyplot as plt\n",
    "import pandas as pd\n",
    "\n",
    "from atlas.atlas import AAL, AAL3Channels"
   ]
  },
  {
   "cell_type": "markdown",
   "id": "d1fd10b3-a24f-479e-8139-bb91cd516cee",
   "metadata": {
    "tags": []
   },
   "source": [
    "# AAL"
   ]
  },
  {
   "cell_type": "code",
   "execution_count": null,
   "id": "f50eca8d-387a-4bca-8943-ed2e461a0ebb",
   "metadata": {},
   "outputs": [],
   "source": [
    "aal_data, aal_labels = AAL(aal_dir='../Data/AAL/Resized_AAL.nii',\n",
    "                           labels_dir='../Data/AAL/ROI_MNI_V4.txt',\n",
    "                           rotate=True).get_data()\n",
    "\n",
    "print(aal_data.shape, '\\n')\n",
    "print(aal_labels, '\\n')\n",
    "        \n",
    "fig, ax = plt.subplots(ncols=10, nrows=6, dpi=300)\n",
    "for row in range(6):\n",
    "    for col in range(10):\n",
    "        idx = row * 10 + col\n",
    "        if idx < 60:\n",
    "            ax[row, col].imshow(aal_data[idx, :, :])\n",
    "        ax[row, col].axis(\"off\")"
   ]
  },
  {
   "cell_type": "markdown",
   "id": "646b16c5-76ca-4954-b947-1c8895b6161e",
   "metadata": {},
   "source": [
    "# 3-Channels AAL"
   ]
  },
  {
   "cell_type": "code",
   "execution_count": null,
   "id": "d54426b4-b366-46c9-94c4-da5ab2278b42",
   "metadata": {},
   "outputs": [],
   "source": [
    "aal_data, aal_labels = AAL3Channels(aal_dir='../Data/AAL/Resized_AAL.nii',\n",
    "                                    labels_dir='../Data/AAL/ROI_MNI_V4.txt',\n",
    "                                    rotate=True,\n",
    "                                    transforms=None,\n",
    "                                    duplicate_channels=False).get_data()\n",
    "\n",
    "print(aal_data.shape, '\\n')\n",
    "print(aal_labels, '\\n')\n",
    "        \n",
    "fig, axes = plt.subplots(\n",
    "    ncols=3,\n",
    "    figsize=(9, 1.8),\n",
    "    dpi=300,\n",
    ")\n",
    "\n",
    "for i in range(3):\n",
    "    axes[i].imshow(aal_data[i])\n",
    "    axes[i].axis(\"off\");"
   ]
  },
  {
   "cell_type": "code",
   "execution_count": null,
   "id": "b573ff21-ad4c-43bb-b779-8ba414fe3080",
   "metadata": {},
   "outputs": [],
   "source": []
  }
 ],
 "metadata": {
  "kernelspec": {
   "display_name": "Python 3 (ipykernel)",
   "language": "python",
   "name": "python3"
  },
  "language_info": {
   "codemirror_mode": {
    "name": "ipython",
    "version": 3
   },
   "file_extension": ".py",
   "mimetype": "text/x-python",
   "name": "python",
   "nbconvert_exporter": "python",
   "pygments_lexer": "ipython3",
   "version": "3.12.8"
  }
 },
 "nbformat": 4,
 "nbformat_minor": 5
}
