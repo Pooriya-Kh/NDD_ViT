{
 "cells": [
  {
   "cell_type": "code",
   "execution_count": null,
   "id": "84422c53-a127-4767-8ea5-9c8282b6fab4",
   "metadata": {},
   "outputs": [],
   "source": [
    "# Autoreload modules\n",
    "%load_ext autoreload\n",
    "%autoreload 2\n",
    "    \n",
    "# Accessing moduels\n",
    "import sys,os\n",
    "sys.path.append(os.path.realpath('../Modules'))\n",
    "\n",
    "from dataloader.dataset import ADNI3Channels\n",
    "from dataloader.dataloader import ADNILoader\n",
    "from dataloader.transforms import Transforms\n",
    "\n",
    "from model.model import ViT\n",
    "from model.train import Trainer\n",
    "\n",
    "from matplotlib import pyplot as plt\n",
    "from utils.report import sklearn_classification_report, custom_classification_report"
   ]
  },
  {
   "cell_type": "markdown",
   "id": "3b159d54-7226-401c-816f-f83ee5783bff",
   "metadata": {
    "tags": []
   },
   "source": [
    "# Dataset and Dataloader Setup"
   ]
  },
  {
   "cell_type": "code",
   "execution_count": null,
   "id": "f9b11b43-41e4-4f42-bde8-545efc2429bc",
   "metadata": {},
   "outputs": [],
   "source": [
    "id2label = {0: \"CN\", 1: \"MCI\", 2: \"AD\"}\n",
    "label2id = {\"CN\": 0, \"MCI\": 1, \"AD\": 2}\n",
    "\n",
    "transforms = Transforms(image_size=(384, 384), p=0.5)\n",
    "\n",
    "train_ds = ADNI3Channels(\"../Data/Training/\", transforms=transforms.train())\n",
    "valid_ds = ADNI3Channels(\"../Data/Validation/\", transforms=transforms.eval())\n",
    "test_ds = ADNI3Channels(\"../Data/Test/\", transforms=transforms.eval())"
   ]
  },
  {
   "cell_type": "code",
   "execution_count": null,
   "id": "3be4e16a-ec1c-4e73-ba2f-6cc086513e4f",
   "metadata": {
    "tags": []
   },
   "outputs": [],
   "source": [
    "image, label = train_ds[0]\n",
    "\n",
    "print(\"Image shape:\", image.shape)\n",
    "print(\"Label:\", id2label[label.item()], \"\\n\")\n",
    "\n",
    "print(\"Number of training samples:\", len(train_ds))\n",
    "print(\"Number of validation samples:\", len(valid_ds))\n",
    "print(\"Number of test samples:\", len(test_ds), \"\\n\")\n",
    "\n",
    "fig, axes = plt.subplots(ncols=3, figsize=(6, 2), dpi=300)\n",
    "for i in range(3):\n",
    "    axes[i].imshow(image[i, :, :])\n",
    "    axes[i].axis(\"off\");\n",
    "\n",
    "print(\"Min pixel value =\", image.min().item())\n",
    "print(\"Max pixel value =\", image.max().item())"
   ]
  },
  {
   "cell_type": "code",
   "execution_count": null,
   "id": "22f342a0-b447-4fb1-9f2d-f31478574b84",
   "metadata": {
    "scrolled": true,
    "tags": []
   },
   "outputs": [],
   "source": [
    "kwargs = {'train_ds': train_ds,\n",
    "           'valid_ds': valid_ds,\n",
    "           'test_ds': test_ds,\n",
    "         }\n",
    "\n",
    "train_dataloader = ADNILoader(**kwargs).train_dataloader()\n",
    "valid_dataloader= ADNILoader(**kwargs).validation_dataloader()\n",
    "test_dataloader = ADNILoader(**kwargs).test_dataloader()\n",
    "\n",
    "batch = next(iter(train_dataloader))\n",
    "print(batch[0].shape)\n",
    "print(batch[1].shape)"
   ]
  },
  {
   "cell_type": "markdown",
   "id": "8ed18ae1-e86b-4e18-a833-fd2abe0dfdcf",
   "metadata": {
    "tags": []
   },
   "source": [
    "# Model Development"
   ]
  },
  {
   "cell_type": "code",
   "execution_count": null,
   "id": "eae6da4e-8b63-4387-9785-b2d6378d8a4e",
   "metadata": {
    "tags": []
   },
   "outputs": [],
   "source": [
    "model = ViT(\n",
    "    pretrained=True,\n",
    "    model_name=\"google/vit-base-patch32-384\",\n",
    "    device=\"cuda:0\"\n",
    ")\n",
    "\n",
    "kwargs = {\n",
    "    \"epochs\": 100,\n",
    "    \"model\":model,\n",
    "    \"train_dataloader\": train_dataloader,\n",
    "    \"valid_dataloader\": valid_dataloader,\n",
    "    \"test_dataloader\": test_dataloader,\n",
    "}\n",
    "\n",
    "trainer = Trainer(**kwargs)"
   ]
  },
  {
   "cell_type": "code",
   "execution_count": null,
   "id": "c8c8a12f-48be-42c1-985b-ad3394ea2289",
   "metadata": {},
   "outputs": [],
   "source": [
    "# trainer.train()"
   ]
  },
  {
   "cell_type": "markdown",
   "id": "559633bf-b6c1-4f2c-847b-da4042ffb883",
   "metadata": {
    "tags": []
   },
   "source": [
    "# Model Save and Load"
   ]
  },
  {
   "cell_type": "code",
   "execution_count": null,
   "id": "9bb97c16-bad5-4b6e-9a99-b3abafccbe51",
   "metadata": {},
   "outputs": [],
   "source": [
    "# model.load_best_state(\"acc\")\n",
    "# model.save_best_state_file(\"acc\", \"Best models/\", \"ViT_Pretrained\")\n",
    "model.load_best_state_file(\"acc\", \"Best models/\", \"ViT_Pretrained\")\n",
    "train_ds.transforms = transforms.eval()"
   ]
  },
  {
   "cell_type": "markdown",
   "id": "a67006c7-4308-44eb-8aca-376c641c7409",
   "metadata": {
    "tags": []
   },
   "source": [
    "# Evaluation"
   ]
  },
  {
   "cell_type": "code",
   "execution_count": null,
   "id": "586ffc97-b9a1-4caf-aceb-e1a0fc86c204",
   "metadata": {},
   "outputs": [],
   "source": [
    "# trainer.test(trainer.train_dataloader)\n",
    "trainer.test(trainer.valid_dataloader)\n",
    "trainer.test(trainer.test_dataloader)"
   ]
  },
  {
   "cell_type": "code",
   "execution_count": null,
   "id": "ff7776d7-31cf-4ae3-b873-02bce471491d",
   "metadata": {},
   "outputs": [],
   "source": []
  }
 ],
 "metadata": {
  "kernelspec": {
   "display_name": "Python 3 (ipykernel)",
   "language": "python",
   "name": "python3"
  },
  "language_info": {
   "codemirror_mode": {
    "name": "ipython",
    "version": 3
   },
   "file_extension": ".py",
   "mimetype": "text/x-python",
   "name": "python",
   "nbconvert_exporter": "python",
   "pygments_lexer": "ipython3",
   "version": "3.12.8"
  }
 },
 "nbformat": 4,
 "nbformat_minor": 5
}
