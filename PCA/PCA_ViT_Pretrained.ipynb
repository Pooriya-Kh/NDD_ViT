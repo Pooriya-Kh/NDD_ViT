{
 "cells": [
  {
   "cell_type": "code",
   "execution_count": null,
   "id": "b652af7e-f4c1-46f5-9983-e9f073df1749",
   "metadata": {},
   "outputs": [],
   "source": [
    "# Autoreload modules\n",
    "%load_ext autoreload\n",
    "%autoreload 2\n",
    "\n",
    "import torch\n",
    "import numpy as np\n",
    "import pandas as pd\n",
    "from sklearn.decomposition import PCA\n",
    "from sklearn.preprocessing import StandardScaler\n",
    "    \n",
    "# Accessing moduels\n",
    "import sys,os\n",
    "sys.path.append(os.path.realpath('../Modules'))\n",
    "\n",
    "from dataloader.dataset import ADNI3Channels\n",
    "from dataloader.dataloader import ADNILoader\n",
    "from dataloader.transforms import Transforms\n",
    "\n",
    "from model.model import ViT\n",
    "from model.train import Trainer\n",
    "\n",
    "from matplotlib import pyplot as plt\n",
    "from utils.image import save_fig"
   ]
  },
  {
   "cell_type": "markdown",
   "id": "524579bc-fa07-4fd3-8b03-7a6c7090d8cd",
   "metadata": {},
   "source": [
    "# Dataset and Dataloader Setup"
   ]
  },
  {
   "cell_type": "code",
   "execution_count": null,
   "id": "c146f265-19e4-4098-8596-08370ce8b08b",
   "metadata": {},
   "outputs": [],
   "source": [
    "id2label = {0: \"CN\", 1: \"MCI\", 2: \"AD\"}\n",
    "label2id = {\"CN\": 0, \"MCI\": 1, \"AD\": 2}\n",
    "\n",
    "transforms = Transforms(image_size=(384, 384), p=0.5)\n",
    "\n",
    "train_ds = ADNI3Channels(\"../Data/Training/\", transforms=transforms.eval()) #eval\n",
    "valid_ds = ADNI3Channels(\"../Data/Validation/\", transforms=transforms.eval())\n",
    "test_ds = ADNI3Channels(\"../Data/Test/\", transforms=transforms.eval())"
   ]
  },
  {
   "cell_type": "code",
   "execution_count": null,
   "id": "053da8b9-7744-4552-9db5-c93ad3307c4a",
   "metadata": {},
   "outputs": [],
   "source": [
    "image, label = train_ds[0]\n",
    "\n",
    "print(\"Image shape:\", image.shape)\n",
    "print(\"Label:\", id2label[label.item()], \"\\n\")\n",
    "\n",
    "print(\"Number of training samples:\", len(train_ds))\n",
    "print(\"Number of validation samples:\", len(valid_ds))\n",
    "print(\"Number of test samples:\", len(test_ds), \"\\n\")\n",
    "\n",
    "fig, axes = plt.subplots(ncols=3, figsize=(6, 2), dpi=300)\n",
    "for i in range(3):\n",
    "    axes[i].imshow(image[i, :, :])\n",
    "    axes[i].axis(\"off\");\n",
    "\n",
    "print(\"Min pixel value =\", image.min().item())\n",
    "print(\"Max pixel value =\", image.max().item())"
   ]
  },
  {
   "cell_type": "code",
   "execution_count": null,
   "id": "04b9beb7-69d8-4fdc-84e0-fb3bc1bfb091",
   "metadata": {},
   "outputs": [],
   "source": [
    "kwargs = {'train_ds': train_ds,\n",
    "           'valid_ds': valid_ds,\n",
    "           'test_ds': test_ds,\n",
    "         }\n",
    "\n",
    "train_dataloader = ADNILoader(**kwargs).train_dataloader()\n",
    "valid_dataloader= ADNILoader(**kwargs).validation_dataloader()\n",
    "test_dataloader = ADNILoader(**kwargs).test_dataloader()\n",
    "\n",
    "batch = next(iter(train_dataloader))\n",
    "print(batch[0].shape)\n",
    "print(batch[1].shape)"
   ]
  },
  {
   "cell_type": "markdown",
   "id": "386f30a4-a8e6-425b-837d-135bdd21c37f",
   "metadata": {
    "tags": []
   },
   "source": [
    "# Loading Model"
   ]
  },
  {
   "cell_type": "code",
   "execution_count": null,
   "id": "5605217e-3b18-48f9-9662-6aaaf78a9f56",
   "metadata": {},
   "outputs": [],
   "source": [
    "model = ViT(\n",
    "    pretrained=True,\n",
    "    model_name=\"google/vit-base-patch32-384\",\n",
    "    device=\"cuda:0\"\n",
    ")\n",
    "\n",
    "model.load_best_state_file(\"acc\", \"../ViT/Best models/\", \"ViT_Pretrained\")\n",
    "\n",
    "kwargs = {\n",
    "    \"epochs\": 100,\n",
    "    \"model\":model,\n",
    "    \"train_dataloader\": train_dataloader,\n",
    "    \"valid_dataloader\": valid_dataloader,\n",
    "    \"test_dataloader\": test_dataloader,\n",
    "}\n",
    "\n",
    "trainer = Trainer(**kwargs)"
   ]
  },
  {
   "cell_type": "code",
   "execution_count": null,
   "id": "9e24c08b-140e-4cc4-9812-2ae1fcf70a41",
   "metadata": {},
   "outputs": [],
   "source": [
    "# trainer.test(trainer.train_dataloader)\n",
    "# trainer.test(trainer.valid_dataloader)\n",
    "trainer.test(trainer.test_dataloader)"
   ]
  },
  {
   "cell_type": "markdown",
   "id": "fbb1ae5e-e8b4-4587-b196-4bb847006b33",
   "metadata": {
    "tags": []
   },
   "source": [
    "# Saving Hidden States"
   ]
  },
  {
   "cell_type": "code",
   "execution_count": null,
   "id": "f5a0dff6-2aee-41a0-b89a-242ac5e6a565",
   "metadata": {},
   "outputs": [],
   "source": [
    "def save_hidden_states(dataloader):\n",
    "    last_hidden_states = np.empty((0, 145*768))\n",
    "    targets = np.empty((0, 1))\n",
    "\n",
    "    model.eval()\n",
    "    with torch.no_grad():\n",
    "        for x, y in dataloader:\n",
    "            x, y  = x.to(model.device), y.to(model.device)\n",
    "            _, _, hidden_states = model(x)\n",
    "    \n",
    "            last_hidden_states = np.append(\n",
    "                last_hidden_states,\n",
    "                hidden_states[-1].reshape(dataloader.batch_size, 145*768).cpu().numpy(),\n",
    "                axis=0\n",
    "            )\n",
    "            targets = np.append(\n",
    "                targets,\n",
    "                y.unsqueeze(dim=1).cpu().numpy(),\n",
    "                axis=0\n",
    "            )\n",
    "\n",
    "    return last_hidden_states, targets"
   ]
  },
  {
   "cell_type": "code",
   "execution_count": null,
   "id": "02e569eb-7a46-44bc-b27e-b820404c9012",
   "metadata": {
    "scrolled": true
   },
   "outputs": [],
   "source": [
    "train_last_hidden_states, train_targets = save_hidden_states(train_dataloader)\n",
    "valid_last_hidden_states, valid_targets = save_hidden_states(valid_dataloader)\n",
    "test_last_hidden_states, test_targets = save_hidden_states(test_dataloader)"
   ]
  },
  {
   "cell_type": "markdown",
   "id": "0d9b5676-9156-4984-ac80-16c9bc6916dd",
   "metadata": {},
   "source": [
    "# PCA"
   ]
  },
  {
   "cell_type": "code",
   "execution_count": null,
   "id": "55e08a65-97b5-4b0c-b8a1-bf9faa081844",
   "metadata": {},
   "outputs": [],
   "source": [
    "standard_scaler = StandardScaler()\n",
    "train_last_hidden_states = standard_scaler.fit_transform(train_last_hidden_states)\n",
    "valid_last_hidden_states = standard_scaler.fit_transform(valid_last_hidden_states)\n",
    "test_last_hidden_states = standard_scaler.fit_transform(test_last_hidden_states)"
   ]
  },
  {
   "cell_type": "code",
   "execution_count": null,
   "id": "3a22f8af-f8fc-4c24-9e3c-c913570a4bf5",
   "metadata": {},
   "outputs": [],
   "source": [
    "pca = PCA(n_components=2)\n",
    "\n",
    "train_pca = pca.fit_transform(train_last_hidden_states)\n",
    "print(pca.explained_variance_ratio_)\n",
    "\n",
    "valid_pca = pca.fit_transform(valid_last_hidden_states)\n",
    "print(pca.explained_variance_ratio_)\n",
    "\n",
    "test_pca = pca.fit_transform(test_last_hidden_states)\n",
    "print(pca.explained_variance_ratio_)"
   ]
  },
  {
   "cell_type": "code",
   "execution_count": null,
   "id": "0bb80e11-3a27-4883-bc0f-a736fe902029",
   "metadata": {},
   "outputs": [],
   "source": [
    "train_df = pd.DataFrame(\n",
    "    np.concat([train_targets, train_pca], axis=1),\n",
    "    columns = [\"target\", \"principal component 1\", \"principal component 2\"]\n",
    ")\n",
    "\n",
    "valid_df = pd.DataFrame(\n",
    "    np.concat([valid_targets, valid_pca], axis=1),\n",
    "    columns = [\"target\", \"principal component 1\", \"principal component 2\"]\n",
    ")\n",
    "\n",
    "test_df = pd.DataFrame(\n",
    "    np.concat([test_targets, test_pca], axis=1),\n",
    "    columns = [\"target\", \"principal component 1\", \"principal component 2\"]\n",
    ")"
   ]
  },
  {
   "cell_type": "code",
   "execution_count": null,
   "id": "933c19ac-2293-4e48-8c9e-f03bbea47f0d",
   "metadata": {},
   "outputs": [],
   "source": [
    "targets = [0, 1, 2]\n",
    "colors = ['r', 'g', 'b']\n",
    "markers = ['o', '*', 'P']"
   ]
  },
  {
   "cell_type": "code",
   "execution_count": null,
   "id": "ab1f07a8-a586-46fb-8903-33cccd0d8059",
   "metadata": {},
   "outputs": [],
   "source": [
    "fig, ax = plt.subplots(figsize = (8, 8), dpi=300)\n",
    "for i in range(len(targets)):\n",
    "    sample_df = train_df[train_df['target'] == targets[i]]\n",
    "    ax.scatter(sample_df['principal component 1'],\n",
    "               sample_df['principal component 2'],\n",
    "               s=100,\n",
    "               alpha=0.5,\n",
    "               c=colors[i],\n",
    "               marker=markers[i],\n",
    "               label=f'{id2label[targets[i]]} (Train)'\n",
    "              )\n",
    "\n",
    "plt.xticks(fontsize=15)\n",
    "plt.yticks(fontsize=15)\n",
    "\n",
    "ax.legend(fontsize=14);\n",
    "\n",
    "ax.set_xlabel('Principle Component 1 - Explained Variance Ratio = 0.42', size = 15)\n",
    "ax.set_ylabel('Principle Component 2 - Explained Variance Ratio = 0.19', size = 15);\n",
    "\n",
    "save_fig(\"PCA_train\", fig)"
   ]
  },
  {
   "cell_type": "code",
   "execution_count": null,
   "id": "7473a52e-6e16-4d90-a9cd-9c91579a03fe",
   "metadata": {},
   "outputs": [],
   "source": [
    "fig, ax = plt.subplots(figsize = (8, 8), dpi=300)\n",
    "for i in range(len(targets)):\n",
    "    sample_df = test_df[test_df['target'] == targets[i]]\n",
    "    ax.scatter(sample_df['principal component 1'],\n",
    "               sample_df['principal component 2'],\n",
    "               s=100,\n",
    "               alpha=0.5,\n",
    "               c=colors[i],\n",
    "               marker=markers[i],\n",
    "               label=f'{id2label[targets[i]]} (Test)'\n",
    "              )\n",
    "\n",
    "plt.xticks(fontsize=15)\n",
    "plt.yticks(fontsize=15)\n",
    "\n",
    "ax.legend(fontsize=14);\n",
    "\n",
    "ax.set_xlabel('Principle Component 1 - Explained Variance Ratio = 0.42', size = 15)\n",
    "ax.set_ylabel('Principle Component 2 - Explained Variance Ratio = 0.19', size = 15);\n",
    "\n",
    "save_fig(\"PCA_test\", fig)"
   ]
  },
  {
   "cell_type": "code",
   "execution_count": null,
   "id": "91440f4a-e0d7-4378-a8f8-21c81fb0c83f",
   "metadata": {},
   "outputs": [],
   "source": []
  }
 ],
 "metadata": {
  "kernelspec": {
   "display_name": "Python 3 (ipykernel)",
   "language": "python",
   "name": "python3"
  },
  "language_info": {
   "codemirror_mode": {
    "name": "ipython",
    "version": 3
   },
   "file_extension": ".py",
   "mimetype": "text/x-python",
   "name": "python",
   "nbconvert_exporter": "python",
   "pygments_lexer": "ipython3",
   "version": "3.12.8"
  }
 },
 "nbformat": 4,
 "nbformat_minor": 5
}
