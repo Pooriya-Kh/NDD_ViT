{
 "cells": [
  {
   "cell_type": "code",
   "execution_count": null,
   "id": "bc2c3fcc-5ae2-4a23-a104-9606fb86214e",
   "metadata": {
    "tags": []
   },
   "outputs": [],
   "source": [
    "# Autoreload modules\n",
    "%load_ext autoreload\n",
    "%autoreload 2\n",
    "    \n",
    "# Accessing moduels\n",
    "import sys,os\n",
    "sys.path.append(os.path.realpath('../Modules'))\n",
    "\n",
    "from dataloader.dataset import ADNI3Channels\n",
    "from dataloader.dataloader import ADNILoader\n",
    "from dataloader.transforms import Transforms\n",
    "\n",
    "from model.model import ViT\n",
    "from model.train import Trainer\n",
    "\n",
    "from matplotlib import pyplot as plt\n",
    "from utils.image import save_fig"
   ]
  },
  {
   "cell_type": "code",
   "execution_count": null,
   "id": "84422c53-a127-4767-8ea5-9c8282b6fab4",
   "metadata": {},
   "outputs": [],
   "source": [
    "import matplotlib.colors as mcolors\n",
    "from ast import literal_eval"
   ]
  },
  {
   "cell_type": "markdown",
   "id": "3b159d54-7226-401c-816f-f83ee5783bff",
   "metadata": {
    "tags": []
   },
   "source": [
    "# Dataset and Dataloader Setup"
   ]
  },
  {
   "cell_type": "code",
   "execution_count": null,
   "id": "9f7ce338-184d-4378-a7da-d22ff6723aa0",
   "metadata": {},
   "outputs": [],
   "source": [
    "id2label = {0: \"CN\", 1: \"MCI\", 2: \"AD\"}\n",
    "label2id = {\"CN\": 0, \"MCI\": 1, \"AD\": 2}\n",
    "\n",
    "transforms = Transforms(image_size=(384, 384), p=0.5)\n",
    "\n",
    "train_ds = ADNI3Channels(\"../Data/Training/\", transforms=transforms.eval())\n",
    "valid_ds = ADNI3Channels(\"../Data/Validation/\", transforms=transforms.eval())\n",
    "test_ds = ADNI3Channels(\"../Data/Test/\", transforms=transforms.eval())"
   ]
  },
  {
   "cell_type": "code",
   "execution_count": null,
   "id": "4b9b2527-bf3f-4b5e-ac60-132b26c34f4c",
   "metadata": {},
   "outputs": [],
   "source": [
    "image, label = train_ds[0]\n",
    "\n",
    "print(\"Image shape:\", image.shape)\n",
    "print(\"Label:\", id2label[label.item()], \"\\n\")\n",
    "\n",
    "print(\"Number of training samples:\", len(train_ds))\n",
    "print(\"Number of validation samples:\", len(valid_ds))\n",
    "print(\"Number of test samples:\", len(test_ds), \"\\n\")\n",
    "\n",
    "fig, axes = plt.subplots(ncols=3, figsize=(6, 2), dpi=300)\n",
    "for i in range(3):\n",
    "    axes[i].imshow(image[i, :, :])\n",
    "    axes[i].axis(\"off\");\n",
    "\n",
    "print(\"Min pixel value =\", image.min().item())\n",
    "print(\"Max pixel value =\", image.max().item())"
   ]
  },
  {
   "cell_type": "code",
   "execution_count": null,
   "id": "22f342a0-b447-4fb1-9f2d-f31478574b84",
   "metadata": {
    "tags": []
   },
   "outputs": [],
   "source": [
    "kwargs = {'train_ds': train_ds,\n",
    "           'valid_ds': valid_ds,\n",
    "           'test_ds': test_ds,\n",
    "         }\n",
    "\n",
    "train_dataloader = ADNILoader(**kwargs).train_dataloader()\n",
    "valid_dataloader= ADNILoader(**kwargs).validation_dataloader()\n",
    "test_dataloader = ADNILoader(**kwargs).test_dataloader()\n",
    "\n",
    "batch = next(iter(train_dataloader))\n",
    "print(batch[0].shape)\n",
    "print(batch[1].shape)"
   ]
  },
  {
   "cell_type": "markdown",
   "id": "8dc2e0d5-3663-4c5d-8a33-c2eaf19068ef",
   "metadata": {},
   "source": [
    "# Atlas"
   ]
  },
  {
   "cell_type": "code",
   "execution_count": null,
   "id": "91c4efe9-782f-4fb4-8fa4-bcd3a23870ec",
   "metadata": {},
   "outputs": [],
   "source": [
    "from atlas.atlas import AAL3Channels\n",
    "\n",
    "atlas_data, atlas_labels = AAL3Channels(aal_dir='../Data/AAL/Resized_AAL.nii',\n",
    "                                                 labels_dir='../Data/AAL/ROI_MNI_V4.txt',\n",
    "                                                 rotate=True).get_data()\n",
    "\n",
    "print(atlas_data.shape, '\\n')\n",
    "print(len(atlas_labels), '\\n')\n",
    "print(atlas_data.min(), atlas_data.max())\n",
    "        \n",
    "fig, axes = plt.subplots(ncols=3, figsize=(6, 2), dpi=300)\n",
    "for i in range(3):\n",
    "    axes[i].imshow(atlas_data[i, :, :])\n",
    "    axes[i].axis(\"off\");"
   ]
  },
  {
   "cell_type": "markdown",
   "id": "8ed18ae1-e86b-4e18-a833-fd2abe0dfdcf",
   "metadata": {
    "tags": []
   },
   "source": [
    "# Loading Model"
   ]
  },
  {
   "cell_type": "code",
   "execution_count": null,
   "id": "c274eefc-a1d1-482a-b8b9-d63e89b4cb1e",
   "metadata": {},
   "outputs": [],
   "source": [
    "model = ViT(\n",
    "    pretrained=True,\n",
    "    model_name=\"google/vit-base-patch32-384\",\n",
    "    device=\"cuda:0\"\n",
    ")\n",
    "\n",
    "model.load_best_state_file(\"acc\", \"../ViT/Best models/\", \"ViT_Pretrained\")\n",
    "\n",
    "kwargs = {\n",
    "    \"epochs\": 100,\n",
    "    \"model\":model,\n",
    "    \"train_dataloader\": train_dataloader,\n",
    "    \"valid_dataloader\": valid_dataloader,\n",
    "    \"test_dataloader\": test_dataloader,\n",
    "}\n",
    "\n",
    "trainer = Trainer(**kwargs)"
   ]
  },
  {
   "cell_type": "code",
   "execution_count": null,
   "id": "eae6da4e-8b63-4387-9785-b2d6378d8a4e",
   "metadata": {
    "tags": []
   },
   "outputs": [],
   "source": [
    "# trainer.test(trainer.train_dataloader)\n",
    "# trainer.test(trainer.valid_dataloader)\n",
    "trainer.test(trainer.test_dataloader)"
   ]
  },
  {
   "cell_type": "markdown",
   "id": "f7844125-6650-4d02-abbb-b1f85ba85d60",
   "metadata": {},
   "source": [
    "# Inference"
   ]
  },
  {
   "cell_type": "code",
   "execution_count": null,
   "id": "8685fb91-30c2-4960-ab63-f99b522bc50e",
   "metadata": {
    "tags": []
   },
   "outputs": [],
   "source": [
    "x, y = test_ds[34]\n",
    "\n",
    "pred, region = model.infer(x=x,\n",
    "                           atlas_data=atlas_data,\n",
    "                           atlas_labels=atlas_labels,\n",
    "                           show_overlaid_attention_map=True,\n",
    "                           show_patches=True,\n",
    "                           show_attention_map=True,\n",
    "                           show_input=True)\n",
    "\n",
    "id2label = {0: 'CN', 1: 'MCI', 2: 'AD'}\n",
    "print('Label:', id2label[y.item()])\n",
    "print('Prediction:', pred)\n",
    "print('Most Important Region:', region)"
   ]
  },
  {
   "cell_type": "markdown",
   "id": "559633bf-b6c1-4f2c-847b-da4042ffb883",
   "metadata": {
    "tags": []
   },
   "source": [
    "# Regions' Importance"
   ]
  },
  {
   "cell_type": "code",
   "execution_count": null,
   "id": "26c96b37-e457-49ec-809d-eefcfa6ef374",
   "metadata": {},
   "outputs": [],
   "source": [
    "from torch.utils.data import ConcatDataset, DataLoader"
   ]
  },
  {
   "cell_type": "code",
   "execution_count": null,
   "id": "95c62a48-df37-4056-b7eb-6c2ff954b166",
   "metadata": {},
   "outputs": [],
   "source": [
    "all_ds = ConcatDataset([train_ds, valid_ds, test_ds])\n",
    "print(len(all_ds))"
   ]
  },
  {
   "cell_type": "code",
   "execution_count": null,
   "id": "c6c6562e-0a5c-4ed4-b3d4-106d041b28df",
   "metadata": {},
   "outputs": [],
   "source": [
    "all_dataloader = DataLoader(all_ds,\n",
    "                            batch_size=5,\n",
    "                            shuffle=False,\n",
    "                            num_workers=20,\n",
    "                            drop_last=False,\n",
    "                           )"
   ]
  },
  {
   "cell_type": "code",
   "execution_count": null,
   "id": "309f2e86-9ddb-491b-a17c-45fc355c5303",
   "metadata": {},
   "outputs": [],
   "source": [
    "trainer.test(all_dataloader)"
   ]
  },
  {
   "cell_type": "code",
   "execution_count": null,
   "id": "946e7ccc-af7c-4b5c-a17c-f4a841ff8138",
   "metadata": {},
   "outputs": [],
   "source": [
    "import numpy as np\n",
    "\n",
    "def extract_regions_importance(dataset, label=None, only_non_zeros=False):\n",
    "    id2label = {0: 'CN', 1: 'MCI', 2: 'AD'}\n",
    "    \n",
    "    # Region counter\n",
    "    region_cnt = {key: 0 for key in atlas_labels.keys()}\n",
    "    \n",
    "    for x, y in dataset:\n",
    "        pred, region = model.infer(x=x,\n",
    "                               atlas_data=atlas_data,\n",
    "                               atlas_labels=atlas_labels,\n",
    "                               show_overlaid_attention_map=False,\n",
    "                               show_patches=False,\n",
    "                               show_attention_map=False,\n",
    "                               show_input=False)\n",
    "    \n",
    "        if label:\n",
    "            if(id2label[y.item()] == pred) and (label == pred):\n",
    "                region_cnt[region] += 1\n",
    "\n",
    "        else:\n",
    "            if(id2label[y.item()] == pred):\n",
    "                region_cnt[region] += 1\n",
    "\n",
    "    # Normalization\n",
    "    region_cnt_max = region_cnt[max(region_cnt, key=region_cnt.get)]\n",
    "    region_cnt_min = region_cnt[min(region_cnt, key=region_cnt.get)]\n",
    "\n",
    "    for region in region_cnt:\n",
    "        region_cnt[region] = (region_cnt[region] - region_cnt_min) / (region_cnt_max - region_cnt_min)\n",
    "\n",
    "    # Checking for only_non_zeros\n",
    "    if only_non_zeros:\n",
    "        # Sort\n",
    "        region_cnt = dict(sorted(region_cnt.items(), key=lambda item: item[1], reverse=True))\n",
    "        # Remove zero values\n",
    "        region_cnt = {key: value for key, value in region_cnt.items() if value != 0}\n",
    "\n",
    "    return region_cnt\n",
    "    \n",
    "\n",
    "def plot_regions_importance(region_cnts, key):\n",
    "    my_cmap = plt.get_cmap('viridis')\n",
    "    colors = my_cmap(np.linspace(0, 1, 8))\n",
    "    \n",
    "    fig, ax = plt.subplots(\n",
    "        figsize=(4, 2),\n",
    "        dpi=300,\n",
    "        layout=\"tight\"\n",
    "    )\n",
    "    \n",
    "    ax.bar(\n",
    "        x=region_cnts.keys(),\n",
    "        height=region_cnts.values(),\n",
    "        width=0.5,\n",
    "        color=colors,\n",
    "    )\n",
    "\n",
    "    ax.tick_params(axis='x', labelfontfamily=\"serif\", labelrotation=90, labelsize=4)\n",
    "    ax.tick_params(axis='y', labelfontfamily=\"serif\", labelsize=4)\n",
    "\n",
    "    ax.set_xlabel(\"Regions\", fontname=\"serif\", fontsize=\"xx-small\",)\n",
    "    ax.set_ylabel(\"Importance\", fontname=\"serif\", fontsize=\"xx-small\",)\n",
    "\n",
    "    save_fig(key, fig)"
   ]
  },
  {
   "cell_type": "code",
   "execution_count": null,
   "id": "56161311-aceb-4cbc-8a8d-7dc9fe50df75",
   "metadata": {},
   "outputs": [],
   "source": [
    "# Region importance for each dataset\n",
    "region_cnts = {}\n",
    "region_cnts[\"Training\"] = extract_regions_importance(train_ds, only_non_zeros=True)\n",
    "region_cnts[\"Validation\"] = extract_regions_importance(valid_ds, only_non_zeros=True)\n",
    "region_cnts[\"Test\"] = extract_regions_importance(test_ds, only_non_zeros=True)\n",
    "\n",
    "plot_regions_importance(region_cnts[\"Training\"], \"Training\")\n",
    "plot_regions_importance(region_cnts[\"Validation\"], \"Validation\")\n",
    "plot_regions_importance(region_cnts[\"Test\"], \"Test\")"
   ]
  },
  {
   "cell_type": "code",
   "execution_count": null,
   "id": "88dd8a83-d118-470b-863a-2aa867db01e4",
   "metadata": {},
   "outputs": [],
   "source": [
    "# Overall region importance and for each label\n",
    "region_cnts = {}\n",
    "region_cnts[\"CN\"] = extract_regions_importance(all_ds, \"CN\", only_non_zeros=True)\n",
    "region_cnts[\"MCI\"] = extract_regions_importance(all_ds, \"MCI\", only_non_zeros=True)\n",
    "region_cnts[\"AD\"] = extract_regions_importance(all_ds, \"AD\", only_non_zeros=True)\n",
    "region_cnts[\"Overall\"] = extract_regions_importance(all_ds, only_non_zeros=True)\n",
    "\n",
    "plot_regions_importance(region_cnts[\"CN\"], \"CN\")\n",
    "plot_regions_importance(region_cnts[\"MCI\"], \"MCI\")\n",
    "plot_regions_importance(region_cnts[\"AD\"], \"AD\")\n",
    "plot_regions_importance(region_cnts[\"Overall\"], \"Overall\")"
   ]
  },
  {
   "cell_type": "markdown",
   "id": "1dbaacb6-a227-4798-934c-4580146cf524",
   "metadata": {},
   "source": [
    "# Regions' Importance heatmap"
   ]
  },
  {
   "cell_type": "code",
   "execution_count": null,
   "id": "a246d413-eeb8-47af-84f3-922f75557ab1",
   "metadata": {},
   "outputs": [],
   "source": [
    "def extract_regions_heatmap(dataset, label=None):\n",
    "    id2label = {0: 'CN', 1: 'MCI', 2: 'AD'}\n",
    "    \n",
    "    att_maps = []\n",
    "    \n",
    "    for x, y in dataset:\n",
    "        pred, region, att_map = model.infer(x=x,\n",
    "                                            atlas_data=atlas_data,\n",
    "                                            atlas_labels=atlas_labels,\n",
    "                                            show_overlaid_attention_map=False,\n",
    "                                            show_patches=False,\n",
    "                                            show_attention_map=False,\n",
    "                                            show_input=False,\n",
    "                                            return_att_map=True)\n",
    "    \n",
    "        if label:\n",
    "            if(id2label[y.item()] == pred) and (label == pred):\n",
    "                att_maps.append(att_map)\n",
    "\n",
    "        else:\n",
    "            if(id2label[y.item()] == pred):\n",
    "                att_maps.append(att_map)\n",
    "\n",
    "    mean_att_map = sum(att_maps)/len(att_maps)\n",
    "\n",
    "    # Normalization\n",
    "    mean_att_map = (mean_att_map - mean_att_map.min()) / (mean_att_map.max() - mean_att_map.min())\n",
    "\n",
    "    return mean_att_map\n",
    "\n",
    "def plot_regions_heatmap(mean_att_map, key):\n",
    "    fig, ax = plt.subplots(\n",
    "        figsize=(3, 2),\n",
    "        dpi=300,\n",
    "        layout=\"tight\"\n",
    "    )\n",
    "    \n",
    "    im = ax.imshow(\n",
    "        mean_att_map[2],\n",
    "        vmin=0,\n",
    "        vmax=1\n",
    "    )\n",
    "\n",
    "    cbar = fig.colorbar(im, ax=ax, shrink=0.76)\n",
    "    cbar.ax.tick_params(labelsize=\"small\")\n",
    "    ax.axis(\"off\")\n",
    "    \n",
    "    save_fig(f\"{key}_heatmap\", fig)"
   ]
  },
  {
   "cell_type": "code",
   "execution_count": null,
   "id": "349148b4-407d-4e11-aafe-ca57abaa6886",
   "metadata": {},
   "outputs": [],
   "source": [
    "# Region heatmaps for each dataset\n",
    "mean_att_maps = {}\n",
    "mean_att_maps[\"Training\"] = extract_regions_heatmap(train_ds)\n",
    "mean_att_maps[\"Validation\"] = extract_regions_heatmap(valid_ds)\n",
    "mean_att_maps[\"Test\"] = extract_regions_heatmap(test_ds)\n",
    "\n",
    "plot_regions_heatmap(mean_att_maps[\"Training\"], \"Training\")\n",
    "plot_regions_heatmap(mean_att_maps[\"Validation\"], \"Validation\")\n",
    "plot_regions_heatmap(mean_att_maps[\"Test\"], \"Test\")"
   ]
  },
  {
   "cell_type": "code",
   "execution_count": null,
   "id": "a32ba5b2-5e47-491a-845a-65913f04daa9",
   "metadata": {},
   "outputs": [],
   "source": [
    "mean_att_maps = {}\n",
    "mean_att_maps[\"CN\"] = extract_regions_heatmap(all_ds, \"CN\")\n",
    "mean_att_maps[\"MCI\"] = extract_regions_heatmap(all_ds, \"MCI\")\n",
    "mean_att_maps[\"AD\"] = extract_regions_heatmap(all_ds, \"AD\")\n",
    "mean_att_maps[\"Overall\"] = extract_regions_heatmap(all_ds)\n",
    "\n",
    "plot_regions_heatmap(mean_att_maps[\"CN\"], \"CN\")\n",
    "plot_regions_heatmap(mean_att_maps[\"MCI\"], \"MCI\")\n",
    "plot_regions_heatmap(mean_att_maps[\"AD\"], \"AD\")\n",
    "plot_regions_heatmap(mean_att_maps[\"Overall\"], \"Overall\")"
   ]
  },
  {
   "cell_type": "code",
   "execution_count": null,
   "id": "51175411-cb36-4232-8f87-deea062f913f",
   "metadata": {},
   "outputs": [],
   "source": []
  }
 ],
 "metadata": {
  "kernelspec": {
   "display_name": "Python 3 (ipykernel)",
   "language": "python",
   "name": "python3"
  },
  "language_info": {
   "codemirror_mode": {
    "name": "ipython",
    "version": 3
   },
   "file_extension": ".py",
   "mimetype": "text/x-python",
   "name": "python",
   "nbconvert_exporter": "python",
   "pygments_lexer": "ipython3",
   "version": "3.12.8"
  }
 },
 "nbformat": 4,
 "nbformat_minor": 5
}
