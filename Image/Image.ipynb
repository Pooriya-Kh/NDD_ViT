{
 "cells": [
  {
   "cell_type": "markdown",
   "id": "78b37384-eea4-4bfa-8024-1821011f912b",
   "metadata": {},
   "source": [
    "# Preparing images for the paper"
   ]
  },
  {
   "cell_type": "code",
   "execution_count": null,
   "id": "a617afa6-9330-4bcd-89d9-3a7390d495d2",
   "metadata": {},
   "outputs": [],
   "source": [
    "# Autoreload modules\n",
    "%load_ext autoreload\n",
    "%autoreload 2"
   ]
  },
  {
   "cell_type": "code",
   "execution_count": null,
   "id": "191620b7-178f-4d2e-8a0b-bf93f592af20",
   "metadata": {},
   "outputs": [],
   "source": [
    "# To have access to moduels\n",
    "import sys,os\n",
    "sys.path.append(os.path.dirname(os.path.realpath('')) + '/Modules')"
   ]
  },
  {
   "cell_type": "code",
   "execution_count": null,
   "id": "a7c046f8-23f0-4794-a7e9-b7cbeda7969b",
   "metadata": {},
   "outputs": [],
   "source": [
    "from torchvision.transforms import Resize, Compose\n",
    "\n",
    "from matplotlib import pyplot as plt\n",
    "\n",
    "from dataloader.dataset import ADNI3Channels, ADNI\n",
    "from dataloader.dataloader import ADNILoader\n",
    "from atlas.atlas import AAL, AAL3Channels\n",
    "\n",
    "import nibabel as nib\n",
    "import numpy as np\n",
    "from utils.image import save_image"
   ]
  },
  {
   "cell_type": "markdown",
   "id": "bc0eaeb6-5400-4462-9615-dd989e01384c",
   "metadata": {},
   "source": [
    "## Raw images"
   ]
  },
  {
   "cell_type": "code",
   "execution_count": null,
   "id": "db8ff20a-4c0d-445f-a128-72dffa900d5e",
   "metadata": {},
   "outputs": [],
   "source": [
    "image = nib.load(\"raw.nii\").get_fdata()\n",
    "print(image.shape)"
   ]
  },
  {
   "cell_type": "code",
   "execution_count": null,
   "id": "9d0bf068-fcb1-4744-a7c3-692b14c1bd42",
   "metadata": {},
   "outputs": [],
   "source": [
    "fig, axes = plt.subplots(ncols=3, dpi=300, frameon=False)\n",
    "\n",
    "axes[0].imshow(np.rot90(image[90, :, :]))\n",
    "axes[0].axis(\"off\");\n",
    "    \n",
    "axes[1].imshow(np.rot90(image[:, 80, :]))\n",
    "axes[1].axis(\"off\");\n",
    "\n",
    "axes[2].imshow(np.rot90(image[:, :, 40]))\n",
    "axes[2].axis(\"off\");"
   ]
  },
  {
   "cell_type": "markdown",
   "id": "958b7c6b-3b1c-43e9-a7d1-bd48939376ab",
   "metadata": {},
   "source": [
    "## 60-channel pre-processed images"
   ]
  },
  {
   "cell_type": "code",
   "execution_count": null,
   "id": "2f289dd7-dd3f-442c-b47c-d0c5e8b1bcd7",
   "metadata": {},
   "outputs": [],
   "source": [
    "train_ds = ADNI(\"../Data/Training/\", transforms=None, rotate=True)\n",
    "\n",
    "idx = 0\n",
    "image, label = train_ds[idx]\n",
    "print(image.shape)"
   ]
  },
  {
   "cell_type": "code",
   "execution_count": null,
   "id": "2d295574-2d34-454a-9b89-95578ec737dd",
   "metadata": {},
   "outputs": [],
   "source": [
    "fig, axes = plt.subplots(nrows=4, ncols=15, frameon=False, figsize=(5,1.5), dpi=300)\n",
    "for i in range(4):\n",
    "    for j in range(15):\n",
    "        axes[i][j].imshow(image[(i * 15) + j, :, :])\n",
    "        axes[i][j].axis(\"off\");"
   ]
  },
  {
   "cell_type": "markdown",
   "id": "d7812c30-06b5-4868-911d-432a736d250b",
   "metadata": {},
   "source": [
    "## 3-channel pre-processed images"
   ]
  },
  {
   "cell_type": "code",
   "execution_count": null,
   "id": "3a51f6f8-3d23-4ba0-bb9a-94ef6b9254e3",
   "metadata": {
    "scrolled": true
   },
   "outputs": [],
   "source": [
    "train_ds = ADNI3Channels(\"../Data/Training/\", transforms=None, rotate=True)\n",
    "\n",
    "idx = 0\n",
    "image, label = train_ds[idx]\n",
    "print(image.shape)"
   ]
  },
  {
   "cell_type": "code",
   "execution_count": null,
   "id": "0bbad788-406b-4857-967b-d9392f79c057",
   "metadata": {
    "scrolled": true
   },
   "outputs": [],
   "source": [
    "fig, axes = plt.subplots(ncols=3, dpi=300, frameon=False)\n",
    "for i in range(3):  \n",
    "    axes[i].imshow(image[i, :, :])\n",
    "    axes[i].axis(\"off\");\n",
    "\n",
    "save_image(\"3channel\", image)"
   ]
  },
  {
   "cell_type": "markdown",
   "id": "c69276fd-30e6-4c3c-9b12-e03e5d72798f",
   "metadata": {},
   "source": [
    "## Patches"
   ]
  },
  {
   "cell_type": "code",
   "execution_count": null,
   "id": "1505da4a-9b63-4d46-9856-1c008d66e75d",
   "metadata": {},
   "outputs": [],
   "source": [
    "image_size = (384, 384)\n",
    "resize = Resize(size=image_size)\n",
    "train_transforms = Compose([resize])\n",
    "\n",
    "train_ds = ADNI3Channels(\"../Data/Training/\", transforms=train_transforms, rotate=True)\n",
    "\n",
    "idx = 0\n",
    "image, label = train_ds[idx]\n",
    "print(image.shape)"
   ]
  },
  {
   "cell_type": "code",
   "execution_count": null,
   "id": "0f6c8cfe-3ecf-442f-806d-3545740fd1a3",
   "metadata": {},
   "outputs": [],
   "source": [
    "fig, axes = plt.subplots(ncols=3, dpi=300, frameon=False)\n",
    "for i in range(3):  \n",
    "    axes[i].imshow(image[i, :, :])\n",
    "    axes[i].axis(\"off\");"
   ]
  },
  {
   "cell_type": "code",
   "execution_count": null,
   "id": "1492746d-01f0-4ec7-8a1a-57e139373802",
   "metadata": {},
   "outputs": [],
   "source": [
    "r = [0, 127, 254, 380]\n",
    "fig, axes = plt.subplots(nrows=3, ncols=3, frameon=False, figsize=(3, 3), dpi=300)\n",
    "for row in range(3):\n",
    "    for col in range(3):\n",
    "        axes[row][col].imshow(image[2, r[row]:r[row + 1], r[col]:r[col + 1]])\n",
    "        axes[row][col].axis(\"off\");"
   ]
  },
  {
   "cell_type": "markdown",
   "id": "846f30b5-18d1-4aec-8921-bcd20c75484d",
   "metadata": {},
   "source": [
    "## Atlas"
   ]
  },
  {
   "cell_type": "code",
   "execution_count": null,
   "id": "84c53a13-dd1c-4272-b811-6906ccc2121e",
   "metadata": {},
   "outputs": [],
   "source": [
    "aal_dir = '../Data/AAL/Resized_AAL.nii'\n",
    "labels_dir = '../Data/AAL/ROI_MNI_V4.txt'"
   ]
  },
  {
   "cell_type": "code",
   "execution_count": null,
   "id": "5163e93f-ac76-4bb6-8aaf-e5cbebd39656",
   "metadata": {},
   "outputs": [],
   "source": [
    "atlas_data, atlas_labels = AAL(aal_dir=aal_dir,\n",
    "                                                 labels_dir=labels_dir,\n",
    "                                                 rotate=True).get_data()\n",
    "\n",
    "print(atlas_data.shape)"
   ]
  },
  {
   "cell_type": "code",
   "execution_count": null,
   "id": "21c2d46b-f720-467b-99b6-f67f8fdf1a6f",
   "metadata": {},
   "outputs": [],
   "source": [
    "fig, axes = plt.subplots(nrows=4, ncols=15, frameon=False, figsize=(5,1.5), dpi=300)\n",
    "for i in range(4):\n",
    "    for j in range(15):\n",
    "        axes[i][j].imshow(atlas_data[(i * 15) + j, :, :])\n",
    "        axes[i][j].axis(\"off\");"
   ]
  },
  {
   "cell_type": "code",
   "execution_count": null,
   "id": "8300fefd-37ca-423b-aac6-c1906550d6bc",
   "metadata": {},
   "outputs": [],
   "source": [
    "atlas_data, atlas_labels = AAL3Channels(aal_dir=aal_dir,\n",
    "                                                 labels_dir=labels_dir,\n",
    "                                                 rotate=True).get_data()\n",
    "\n",
    "print(atlas_data.shape)"
   ]
  },
  {
   "cell_type": "code",
   "execution_count": null,
   "id": "89b65336-3606-49cf-9b7b-e99abb637f7c",
   "metadata": {},
   "outputs": [],
   "source": [
    "fig, axes = plt.subplots(ncols=3, dpi=300, frameon=False)\n",
    "for i in range(3):  \n",
    "    axes[i].imshow(atlas_data[i, :, :])\n",
    "    axes[i].axis(\"off\");\n",
    "\n",
    "save_image(\"AAL3\", atlas_data)"
   ]
  },
  {
   "cell_type": "code",
   "execution_count": null,
   "id": "de1a1ab6-08c7-4430-ba07-34384eb6d642",
   "metadata": {},
   "outputs": [],
   "source": []
  }
 ],
 "metadata": {
  "kernelspec": {
   "display_name": "Python 3 (ipykernel)",
   "language": "python",
   "name": "python3"
  },
  "language_info": {
   "codemirror_mode": {
    "name": "ipython",
    "version": 3
   },
   "file_extension": ".py",
   "mimetype": "text/x-python",
   "name": "python",
   "nbconvert_exporter": "python",
   "pygments_lexer": "ipython3",
   "version": "3.12.8"
  }
 },
 "nbformat": 4,
 "nbformat_minor": 5
}
